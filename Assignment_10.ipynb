{
 "cells": [
  {
   "cell_type": "code",
   "execution_count": null,
   "id": "9e11e657",
   "metadata": {},
   "outputs": [],
   "source": [
    "1. How do you distinguish between shutil.copy() and shutil.copytree()?\n",
    "\n",
    "Ans:\n",
    "    \n",
    "While shutil. copy() will copy a single file, shutil. copytree() will copy an entire folder and every folder and file contained in it."
   ]
  },
  {
   "cell_type": "code",
   "execution_count": null,
   "id": "ebfc7bd4",
   "metadata": {},
   "outputs": [],
   "source": [
    "2. What function is used to rename files??\n",
    "\n",
    "Ans: \n",
    "    \n",
    "os. rename() method in Python is used to rename a file or directory"
   ]
  },
  {
   "cell_type": "code",
   "execution_count": null,
   "id": "2e1cb793",
   "metadata": {},
   "outputs": [],
   "source": [
    "3. What is the difference between the delete functions in the send2trash and shutil modules?\n",
    "\n",
    "Ans:\n",
    "    \n",
    "The send2trash functions will move a file or folder to the recycle bin, while shutil functions will permanently delete files and folders."
   ]
  },
  {
   "cell_type": "code",
   "execution_count": null,
   "id": "027e19eb",
   "metadata": {},
   "outputs": [],
   "source": [
    "4.ZipFile objects have a close() method just like File objects’ close() method. What ZipFile method is equivalent to File objects’ open() method?\n",
    "\n",
    "Ans:\n",
    "\n",
    "ZipFile objects are conceptually similar to the File objects you saw returned by the open() function in the previous chapter: they are values through which the program interacts with the file. To create a ZipFile object, call the zipfile.ZipFile() function, passing it a string of the .ZIP file’s filename. Note that zipfile is the name of the Python module, and ZipFile() is the name of the function."
   ]
  },
  {
   "cell_type": "code",
   "execution_count": null,
   "id": "d0e71bca",
   "metadata": {},
   "outputs": [],
   "source": [
    "5. Create a programme that searches a folder tree for files with a certain file extension (such as .pdf or .jpg). Copy these files from whatever location they are in to a new folder.\n",
    "\n",
    "Ans:\n",
    "\n",
    "import os, shutil\n",
    "\n",
    "def moveFileType(folder):\n",
    "    for folderName, subfolders, filenames in os.walk(folder):\n",
    "        for subfolder in subfolders:\n",
    "            for filename in filenames:\n",
    "                if filename.endswith('.jpg'):\n",
    "                    shutil.copy(folder + filename, 'G:\\Ineuron Coureses\\Assingments\\Python Basic Assignment')\n",
    "\n",
    "moveFileType('G:\\Ineuron Coureses\\Assingments')"
   ]
  }
 ],
 "metadata": {
  "kernelspec": {
   "display_name": "Python 3",
   "language": "python",
   "name": "python3"
  },
  "language_info": {
   "codemirror_mode": {
    "name": "ipython",
    "version": 3
   },
   "file_extension": ".py",
   "mimetype": "text/x-python",
   "name": "python",
   "nbconvert_exporter": "python",
   "pygments_lexer": "ipython3",
   "version": "3.8.8"
  }
 },
 "nbformat": 4,
 "nbformat_minor": 5
}
